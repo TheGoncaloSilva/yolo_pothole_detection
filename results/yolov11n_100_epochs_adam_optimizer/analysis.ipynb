{
 "cells": [
  {
   "cell_type": "markdown",
   "metadata": {},
   "source": [
    "# Results\n",
    "\n",
    "![Graphic of the training process](/home/l1gthzao/Desktop/FAA/yolo_pothole_detection/results/yolov11n_100_epochs_adam_optimizer/results/__results___files/__results___14_0.png)\n",
    "\n",
    "![Confusion matrix](/home/l1gthzao/Desktop/FAA/yolo_pothole_detection/results/yolov11n_100_epochs_adam_optimizer/results/__results___files/__results___19_0.png)"
   ]
  },
  {
   "cell_type": "markdown",
   "metadata": {},
   "source": [
    "### Class and Box Loss\n",
    "\n",
    "Class and box loss graphics show an almost convergence state, with validation being closer to it than training. At validation the values were quite close to the training ones. While the model is not overfitting, perhaps the complete dataset would give the convergence result we were looking for.\n",
    "\n",
    "### Precision and Recall\n",
    "\n",
    "Precision and recall kept going up with a slight plateau in sight at near 100 epochs. The model has a precision of around 0.8 and a recall of around 0.7. Again, the complete dataset would give us a better result.\n",
    "\n",
    "### mAP\n",
    "\n",
    "The mAP50 is near 0.8, while the mAP50-95 is around 0.5. The DFL graph shows us that it still didn't reach the plateau, so the model clearly has room for improvement in better bounding box predictions."
   ]
  }
 ],
 "metadata": {
  "language_info": {
   "name": "python"
  }
 },
 "nbformat": 4,
 "nbformat_minor": 2
}
