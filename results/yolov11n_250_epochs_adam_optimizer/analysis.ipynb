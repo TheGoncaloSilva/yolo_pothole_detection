{
 "cells": [
  {
   "cell_type": "markdown",
   "metadata": {},
   "source": [
    "## Results\n",
    "\n",
    "![Graphic of the training process](/home/l1gthzao/Desktop/FAA/yolo_pothole_detection/results/yolov11n_250_epochs_adam_optimizer/__results___files/__results___14_0.png)\n",
    "\n",
    "![Confusion Matrix](/home/l1gthzao/Desktop/FAA/yolo_pothole_detection/results/yolov11n_250_epochs_adam_optimizer/__results___files/__results___19_0.png)"
   ]
  },
  {
   "cell_type": "markdown",
   "metadata": {},
   "source": [
    "### Class and Box Loss\n",
    "\n",
    "Class and box losses kept going down as the epochs increased, reaching a convergence like state on validation and near it on training, with values of loss near or below 1. This just shows that the model is quite better than the previous ones. With no signs of overfitting, the model could be improved perhaps with a bigger dataset or a different learning rate.\n",
    "\n",
    "### Precision and Recall\n",
    "\n",
    "Precision and recall kept going up, with precision nearing 0.9 and recall nearing 0.8. This is a good sign that the model can detect plotholes with a good accuracy and without missing many. The DFL justifies this due to being near convergence. The confusion matrix shows better results than the previous models, with false negatives (recall) being still a bit higher than false positives (precision). More data/augmentation\n",
    "\n",
    "### mAP\n",
    "\n",
    "The mAP50 is at a plateau of about 0.8 and mAP50-95 is around 0.6. It shows another better improvement over the previous models.\n",
    "\n"
   ]
  }
 ],
 "metadata": {
  "language_info": {
   "name": "python"
  }
 },
 "nbformat": 4,
 "nbformat_minor": 2
}
