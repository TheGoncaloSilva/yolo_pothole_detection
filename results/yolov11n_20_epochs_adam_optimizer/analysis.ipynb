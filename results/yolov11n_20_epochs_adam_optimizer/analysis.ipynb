{
 "cells": [
  {
   "cell_type": "markdown",
   "metadata": {},
   "source": [
    "# Yolov11n Model Analysis (20 Epochs with Adam Optimizer)\n",
    "\n",
    "## Results\n",
    "\n",
    "![Graphic of the training process](/home/l1gthzao/Desktop/FAA/yolo_pothole_detection/results/yolov11n_20_epochs_adam_optimizer/results/__results___files/__results___14_0.png)\n",
    "\n",
    "![Confusion Matrix](/home/l1gthzao/Desktop/FAA/yolo_pothole_detection/results/yolov11n_20_epochs_adam_optimizer/results/__results___files/__results___19_0.png)"
   ]
  },
  {
   "cell_type": "markdown",
   "metadata": {},
   "source": [
    "### Class and Box Loss\n",
    "\n",
    "The class and box loss kept decreasing without reaching convergence, being it quite closer to it on validation. This means that the model could've learned more, but it is already performing well with unseen data.\n",
    "\n",
    "### Precision and Recall\n",
    "\n",
    "The model shows good level of precision (around 0.7) and a recall of around 0.6. This means that the model is able to detect potholes with a relatively decent ammount of precision, but it could be improved, as well as the recall, which is more concerning. More epochs or a bigger dataset could help. Confidence matrix just proves it, as it shows that the model has a lot of false negatives/positives.\n",
    "\n",
    "### mAP\n",
    "\n",
    "The mAP50 is of around 0.6, while the mAP50-95 is of around 0.4. This values are still not enough for a precise bounding of the potholes. And the DFL just shows that it didn't reach a plateau, so more training could help.\n",
    "\n",
    "\n",
    "\n"
   ]
  }
 ],
 "metadata": {
  "language_info": {
   "name": "python"
  }
 },
 "nbformat": 4,
 "nbformat_minor": 2
}
